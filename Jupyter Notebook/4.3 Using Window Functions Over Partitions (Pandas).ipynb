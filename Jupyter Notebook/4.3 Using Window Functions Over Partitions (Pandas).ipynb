{
 "cells": [
  {
   "cell_type": "code",
   "execution_count": 2,
   "id": "0b25a9c0-9583-4fa5-a94e-35eae4eb8a22",
   "metadata": {},
   "outputs": [],
   "source": [
    "import pandas as pd"
   ]
  },
  {
   "cell_type": "code",
   "execution_count": 45,
   "id": "2ef62f29-bf6e-4dbe-952c-ad08181b6152",
   "metadata": {},
   "outputs": [],
   "source": [
    "archive_location = 'archive'\n",
    "\n",
    "filenames = {\n",
    "    \"customers\" : \"olist_customers_dataset.csv\", #Information about customers and their geographic data.\n",
    "    \"geolocation\" : \"olist_geolocation_dataset.csv\",\n",
    "    \"order_items\" : \"olist_order_items_dataset.csv\", #Details about each item in an order, including price, freight value, and the connection between orders and products.\n",
    "    \"order_payments\" : \"olist_order_payments_dataset.csv\", #Payment information associated with each order.\n",
    "    \"order_reviews\" : \"olist_order_reviews_dataset.csv\", #Customer reviews and ratings for orders.\n",
    "    \"orders\" : \"olist_orders_dataset.csv\", #Contains order information such as order status, purchase date, and delivery date.\n",
    "    \"products\" : \"olist_products_dataset.csv\", #Contains product-related information.\n",
    "    \"sellers\" : \"olist_sellers_dataset.csv\", #Details about sellers and their geographic information.\n",
    "    \"product_category_name_translation\" : \"product_category_name_translation.csv\",\n",
    "}\n",
    "customers_df = pd.read_csv(f'{archive_location}/{filenames[\"customers\"]}')\n",
    "geolocation_df = pd.read_csv(f'{archive_location}/{filenames[\"geolocation\"]}')\n",
    "order_items = pd.read_csv(f'{archive_location}/{filenames[\"order_items\"]}')\n",
    "order_payments_df = pd.read_csv(f'{archive_location}/{filenames[\"order_payments\"]}')\n",
    "order_reviews = pd.read_csv(f'{archive_location}/{filenames[\"order_reviews\"]}')\n",
    "orders_df = pd.read_csv(f'{archive_location}/{filenames[\"orders\"]}')\n",
    "products = pd.read_csv(f'{archive_location}/{filenames[\"products\"]}')\n",
    "sellers = pd.read_csv(f'{archive_location}/{filenames[\"sellers\"]}')\n",
    "product_category_name_translation = pd.read_csv(f'{archive_location}/{filenames[\"product_category_name_translation\"]}')\n",
    "\n",
    "# print(f\"Count of rows before dedublication: {str(len(geolocation_df.index))}\")\n",
    "geolocation_df.drop_duplicates(inplace=True)\n",
    "geolocation_df.reset_index(inplace=True , drop=True)\n",
    "# print(f\"Count of rows after dedublication: {len(geolocation_df.index)}\")\n",
    "\n",
    "# print(orders_df[orders_df[\"order_approved_at\"].isna()].head())\n",
    "orders_df[\"order_delivered_carrier_date\"] = orders_df[\"order_delivered_carrier_date\"].fillna(pd.NaT)\n",
    "orders_df[\"order_approved_at\"] = orders_df[\"order_approved_at\"].fillna(pd.NaT)\n",
    "orders_df[\"order_delivered_customer_date\"] = orders_df[\"order_delivered_customer_date\"].fillna(pd.NaT)\n",
    "# print(orders_df[orders_df[\"order_approved_at\"].isna()].head())\n",
    "\n",
    "\n",
    "# print(products[products[\"product_category_name\"].isna()].head())\n",
    "products[\"product_category_name\"] = products[\"product_category_name\"].fillna('')\n",
    "products[\"product_name_lenght\"] = products[\"product_category_name\"].fillna('')\n",
    "products[\"product_description_lenght\"] = products[\"product_description_lenght\"].fillna(0)\n",
    "products[\"product_photos_qty\"] = products[\"product_photos_qty\"].fillna(0)\n",
    "products[\"product_weight_g\"] = products[\"product_weight_g\"].fillna('')\n",
    "products[\"product_length_cm\"] = products[\"product_length_cm\"].fillna('')\n",
    "products[\"product_photos_qty\"] = products[\"product_photos_qty\"].fillna('')\n",
    "products[\"product_width_cm\"] = products[\"product_width_cm\"].fillna('')\n",
    "# print('\\n\\n----------------')\n",
    "# print(products[products[\"product_category_name\"] == ''].head())\n",
    "\n",
    "\n",
    "# print(order_reviews[order_reviews[\"review_comment_message\"].isna()].head())\n",
    "order_reviews[\"review_comment_title\"] = order_reviews[\"review_comment_title\"].fillna('')\n",
    "order_reviews[\"review_comment_message\"] = order_reviews[\"review_comment_message\"].fillna('')\n",
    "# print(order_reviews[order_reviews[\"review_comment_message\"] == ''].head())\n",
    "\n",
    "\n",
    "# print(\"Calculating total_price\")\n",
    "order_items[\"total_price\"] = order_items[\"freight_value\"] +  order_items[\"price\"]\n",
    "# print(order_items[[\"freight_value\",\"price\",\"total_price\"]].head())\n",
    "\n",
    "\n",
    "# print(\"\\n\\nCalculating delivery_time\")\n",
    "orders_df[\"delivery_time\"] = pd.to_datetime(orders_df[\"order_delivered_customer_date\"]) - pd.to_datetime(orders_df[\"order_purchase_timestamp\"])\n",
    "# print(orders_df[[\"order_delivered_customer_date\",\"order_purchase_timestamp\",\"delivery_time\"]].head())\n",
    "\n",
    "# print(\"\\n\\nAdding delivery_time to order_items\")\n",
    "order_items = pd.merge(order_items, orders_df[['order_id', 'delivery_time']], on='order_id', how='left')\n",
    "# print(order_items['delivery_time'].head())\n",
    "\n",
    "#tbc on negative values\n",
    "# print(\"\\n\\nCalculating profit_margin\")\n",
    "order_items[\"profit_margin\"] = order_items[\"price\"] - order_items[\"freight_value\"]\n",
    "# print(order_items[[\"price\",\"freight_value\",\"profit_margin\"]].sort_values(by=[\"profit_margin\"],ascending=True).head())\n",
    "\n",
    "# print(\"\\n\\nCalculating profit_margin\")\n",
    "payments_count = order_payments_df.groupby('order_id').size().reset_index(name='payments_count')\n",
    "orders_df = orders_df.merge(payments_count, on='order_id', how='left')\n",
    "orders_df['payments_count'] = orders_df['payments_count'].fillna(0)\n",
    "orders_df['payments_count'] = orders_df['payments_count'].astype(int)\n",
    "\n",
    "# print(orders_df['payments_count'].head())\n",
    "\n"
   ]
  },
  {
   "cell_type": "code",
   "execution_count": 46,
   "id": "579215e4-ebb1-4f91-9707-3b9b9d33d01c",
   "metadata": {},
   "outputs": [
    {
     "name": "stdout",
     "output_type": "stream",
     "text": [
      "                            customer_id  total_price  running_total\n",
      "15178  1617b1357756262bfa56ab541c47bc16      1708.01        1708.01\n",
      "15179  1617b1357756262bfa56ab541c47bc16      1708.01        3416.02\n",
      "15180  1617b1357756262bfa56ab541c47bc16      1708.01        5124.03\n",
      "15181  1617b1357756262bfa56ab541c47bc16      1708.01        6832.04\n",
      "15182  1617b1357756262bfa56ab541c47bc16      1708.01        8540.05\n"
     ]
    }
   ],
   "source": [
    "orders_with_price_df = pd.merge(orders_df, order_items[['order_id', 'total_price']], on='order_id', how='left')\n",
    "\n",
    "orders_with_price_df['running_total'] = orders_with_price_df.groupby('customer_id')['total_price'].cumsum()\n",
    "\n",
    "#to show the running total of product price for each customer\n",
    "testorders_with_price_df = orders_with_price_df[orders_with_price_df[\"customer_id\"] == '1617b1357756262bfa56ab541c47bc16']\n",
    "print(testorders_with_price_df[[\"customer_id\",\"total_price\",\"running_total\"]].head())\n"
   ]
  },
  {
   "cell_type": "code",
   "execution_count": 47,
   "id": "5a1c1f05-1f48-439c-8495-0a260e5e4a17",
   "metadata": {},
   "outputs": [
    {
     "name": "stdout",
     "output_type": "stream",
     "text": [
      "    product_category_name    delivery_time rolling_average_delivery_time\n",
      "0   utilidades_domesticas  8 days 10:28:40                           NaT\n",
      "43  utilidades_domesticas 33 days 21:31:35       21 days 04:00:07.500000\n",
      "83  utilidades_domesticas 19 days 16:02:09              26 days 18:46:52\n",
      "84  utilidades_domesticas 19 days 16:02:09              19 days 16:02:09\n",
      "85  utilidades_domesticas 19 days 16:02:09              19 days 16:02:09\n"
     ]
    }
   ],
   "source": [
    "\n",
    "orders_df['delivery_time'] = pd.to_numeric(orders_df['delivery_time'], errors='coerce')\n",
    "\n",
    "orders_with_productId_df = pd.merge(orders_df, order_items[['order_id', 'product_id']], on='order_id', how='left')\n",
    "# print(orders_with_productId_df.head())\n",
    "orders_with_product_category_df = pd.merge(orders_with_productId_df, products[['product_id', 'product_category_name']], on='product_id', how='left')\n",
    "# print(orders_with_product_category_df.head())\n",
    "\n",
    "orders_with_product_category_df['rolling_average_delivery_time'] = orders_with_product_category_df.groupby('product_category_name')['delivery_time'].rolling(window=2).mean().reset_index(level=0, drop=True)\n",
    "orders_with_product_category_df['delivery_time'] = pd.to_timedelta(orders_with_product_category_df['delivery_time'])\n",
    "orders_with_product_category_df['rolling_average_delivery_time'] = pd.to_timedelta(orders_with_product_category_df['rolling_average_delivery_time'])\n",
    "\n",
    "#to show the rolling of the avg delivery time\n",
    "testorders_with_product_category_df = orders_with_product_category_df[orders_with_product_category_df[\"product_category_name\"] == \"utilidades_domesticas\"]\n",
    "print(testorders_with_product_category_df[['product_category_name',\"delivery_time\",\"rolling_average_delivery_time\"]].head())"
   ]
  },
  {
   "cell_type": "code",
   "execution_count": null,
   "id": "b37d91f9-3fe6-4c08-ad3d-e73d9b854c9c",
   "metadata": {},
   "outputs": [],
   "source": []
  }
 ],
 "metadata": {
  "kernelspec": {
   "display_name": "Python 3 (ipykernel)",
   "language": "python",
   "name": "python3"
  },
  "language_info": {
   "codemirror_mode": {
    "name": "ipython",
    "version": 3
   },
   "file_extension": ".py",
   "mimetype": "text/x-python",
   "name": "python",
   "nbconvert_exporter": "python",
   "pygments_lexer": "ipython3",
   "version": "3.12.4"
  }
 },
 "nbformat": 4,
 "nbformat_minor": 5
}
